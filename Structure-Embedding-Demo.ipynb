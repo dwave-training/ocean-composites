{
 "cells": [
  {
   "cell_type": "markdown",
   "metadata": {},
   "source": [
    "# Structure Composite\n",
    "\n",
    "The `StructureComposite` can be used to compose a sampler that targets a particular graph structure. The ability to do this is useful for simulating proposed working graphs of QPU designs. In this demonstration, we will show how to build a composed sampler using the Simulated Annealing Sampler and Structure Composite, targeting a 3 dimensional simple lattice structure. \n",
    "\n",
    "Lattice structures are particularly interesting due to the variety of applications in the sciences. To name a few:\n",
    "- KT phase transition study on square-octagonal lattices (https://arxiv.org/abs/1803.02047)\n",
    "- Lattice-based cryptography (https://en.wikipedia.org/wiki/Lattice-based_cryptography)\n",
    "- Study of crystalline structures (https://en.wikipedia.org/wiki/Crystal_structure)\n",
    "\n",
    "First, let's use NetworkX to build a lattice-structured graph for our composed simple 3d lattice sampler, and view the lattice in a 3d plot with matplotlib."
   ]
  },
  {
   "cell_type": "code",
   "execution_count": null,
   "metadata": {},
   "outputs": [],
   "source": [
    "import dimod\n",
    "import networkx as nx\n",
    "import numpy as np\n",
    "import matplotlib.pyplot as plt\n",
    "from mpl_toolkits import mplot3d"
   ]
  },
  {
   "cell_type": "code",
   "execution_count": null,
   "metadata": {},
   "outputs": [],
   "source": [
    "# Build a simple 3D lattice with grid_graph\n",
    "\n",
    "lattice = nx.grid_graph(dim=(4,4,4))\n",
    "\n",
    "%matplotlib notebook\n",
    "\n",
    "nodes_xyz = np.array(lattice.nodes)\n",
    "edges_xyz = np.array(lattice.edges)\n",
    "\n",
    "fig = plt.figure()\n",
    "ax = plt.axes(projection=\"3d\")\n",
    "ax.set(xlabel=\"X\", ylabel=\"Y\", zlabel=\"Z\",title=\"4x4x4 simple lattice\")\n",
    "\n",
    "#plot points\n",
    "ax.scatter3D(nodes_xyz.T[0], nodes_xyz.T[1], nodes_xyz.T[2], c='b')\n",
    "\n",
    "#plot the edges\n",
    "for edge in edges_xyz:\n",
    "    ax.plot3D(*zip(edge[0], edge[1]), color=\"orchid\")"
   ]
  },
  {
   "cell_type": "markdown",
   "metadata": {},
   "source": [
    "# Build a composed structured sampler\n",
    "\n",
    "Now we are ready to build our composed structured sampler with our lattice graph.\n",
    "\n",
    "Let's look at the signature of the `StructureComposite` class, found in `dimod`, to see what we need:"
   ]
  },
  {
   "cell_type": "code",
   "execution_count": null,
   "metadata": {},
   "outputs": [],
   "source": [
    "?dimod.StructureComposite"
   ]
  },
  {
   "cell_type": "markdown",
   "metadata": {},
   "source": [
    "We provide a base sampler, in this case the `SimulatedAnnealingSampler` from `neal`, a list of nodes, and a list of edges.\n",
    "The edge and node lists will come from our lattice graph."
   ]
  },
  {
   "cell_type": "code",
   "execution_count": null,
   "metadata": {},
   "outputs": [],
   "source": [
    "from neal import SimulatedAnnealingSampler\n",
    "\n",
    "sampler = SimulatedAnnealingSampler()\n",
    "\n",
    "structured_sampler = dimod.StructureComposite(sampler, list(lattice.nodes), list(lattice.edges))"
   ]
  },
  {
   "cell_type": "markdown",
   "metadata": {},
   "source": [
    "With the structured sampler ready, we can sample from Binary Quadratic Models with the same target graph.\n",
    "Next, let's generate a random BQM that has the exact same graph as our structured sampler."
   ]
  },
  {
   "cell_type": "code",
   "execution_count": null,
   "metadata": {},
   "outputs": [],
   "source": [
    "# Build a BQM with random biases and same structure as our structured sampler.\n",
    "\n",
    "linear = {node:np.random.randint(-20,20) for node in lattice.nodes}\n",
    "quadratic = {edge:np.random.randint(-20,20) for edge in lattice.edges}\n",
    "\n",
    "bqm = dimod.BQM(linear, quadratic, \"BINARY\")\n",
    "\n",
    "response = structured_sampler.sample(bqm, num_reads=10)\n",
    "\n",
    "print(response)"
   ]
  },
  {
   "cell_type": "markdown",
   "metadata": {},
   "source": [
    "# Embedding Composite\n",
    "\n",
    "This is great! However, we are restricted to BQMs with a very specfic graph structure - one exactly matching the structured sampler. We can, however, exploit this structure in a meaningful way by composing our sampler with yet another composite - the `EmbeddingComposite`, found in the package `dwave-system`.\n",
    "\n",
    "Looking at the signature tells us that we need to provide a *structured* sampler, among other optional arguments.\n",
    "We require the input sampler to be structured, and it is worth mentioning that every QPU has a structure (Chimera, Pegasus are names of working graphs).\n",
    "\n",
    "Our composed sampler has a lattice structure, so we can compose it with the `EmbeddingComposite` and embed problem graphs that are embeddable. This has the benefit of solving problems that don't have the exact same structure as the sampler."
   ]
  },
  {
   "cell_type": "code",
   "execution_count": null,
   "metadata": {},
   "outputs": [],
   "source": [
    "from dwave.system import EmbeddingComposite\n",
    "\n",
    "?EmbeddingComposite"
   ]
  },
  {
   "cell_type": "markdown",
   "metadata": {},
   "source": [
    "Now, there may be many graphs that we can map to a lattice. Today, I though it would be interesting and perhaps motivating to show embedding the same structure of lattice, just of a smaller size. This motivates thinking of parallelization via structure.\n",
    "\n",
    "First, let's build our composed embedding sampler, that looks to embed the input problem's graph into our original lattice graph.\n",
    "Then, let's create a smaller 3d lattice to sample with the composed sampler."
   ]
  },
  {
   "cell_type": "code",
   "execution_count": null,
   "metadata": {},
   "outputs": [],
   "source": [
    "embedding_sampler = EmbeddingComposite(structured_sampler)\n",
    "\n",
    "# Create a smaller simple 3d lattice\n",
    "\n",
    "lattice_small = nx.grid_graph(dim=(2,2,2))\n",
    "\n",
    "linear_small = {node:np.random.randint(-20,20) for node in lattice_small.nodes}\n",
    "quadratic_small = {edge:np.random.randint(-20,20) for edge in lattice_small.edges}\n",
    "\n",
    "small_bqm = dimod.BQM(linear_small, quadratic_small, \"BINARY\")\n",
    "\n",
    "response_embedded = embedding_sampler.sample(small_bqm, num_reads=10, return_embedding=True)\n",
    "\n",
    "print(response_embedded)"
   ]
  },
  {
   "cell_type": "markdown",
   "metadata": {},
   "source": [
    "Let's visualize the embedding of the smaller lattice into the larger one:"
   ]
  },
  {
   "cell_type": "code",
   "execution_count": null,
   "metadata": {},
   "outputs": [],
   "source": [
    "node_embedding = []\n",
    "for embedding in response_embedded.info['embedding_context']['embedding'].values():\n",
    "    node_embedding += [*embedding]\n",
    "    \n",
    "node_embedding = np.array(node_embedding)\n",
    "\n",
    "%matplotlib notebook\n",
    "\n",
    "fig = plt.figure()\n",
    "ax = plt.axes(projection=\"3d\")\n",
    "ax.set(xlabel=\"X\", ylabel=\"Y\", zlabel=\"Z\", title=\"2x2x2 Lattice Embedding\")\n",
    "\n",
    "#plot points\n",
    "ax.scatter3D(nodes_xyz.T[0], nodes_xyz.T[1], nodes_xyz.T[2], c='b')\n",
    "ax.scatter3D(node_embedding.T[0], node_embedding.T[1], node_embedding.T[2], s=50, c='r')\n",
    "\n",
    "#plot the edges\n",
    "for edge in edges_xyz:\n",
    "    if any(np.array_equal(edge[0], x) for x in node_embedding) and any(np.array_equal(edge[1], x) for x in node_embedding):\n",
    "        ax.plot3D(*zip(edge[0], edge[1]), \"r\")\n",
    "    else:\n",
    "        ax.plot3D(*zip(edge[0], edge[1]), color=\"orchid\")"
   ]
  },
  {
   "cell_type": "markdown",
   "metadata": {},
   "source": [
    "## Embedding and chains\n",
    "\n",
    "Sometimes, we need to embed a problem graph that could have a different topology, or a similar structure but with higher connectivity on average. In these situations, we could end up mapping a node in our problem graph to several nodes in our structured sampler's graph to account for the higher connectivity of nodes. This creates \"chains\" of nodes and edges that are used to represent a node in our problem graph via embedding.\n",
    "\n",
    "Let's try to embed a 3d lattice that has periodic boundary conditions that result in some nodes with a higher maximum degree than in the simple case."
   ]
  },
  {
   "cell_type": "code",
   "execution_count": null,
   "metadata": {},
   "outputs": [],
   "source": [
    "# Create a 3x2x2 lattice with periodic boundary conditions\n",
    "\n",
    "periodic_lattice = nx.grid_graph(dim=(3,2,2), periodic=True)\n",
    "\n",
    "linear_periodic = {node:np.random.randint(-20,20) for node in periodic_lattice.nodes}\n",
    "quadratic_periodic = {edge:np.random.randint(-20,20) for edge in periodic_lattice.edges}\n",
    "\n",
    "periodic_lattice_bqm = dimod.BQM(linear_periodic, quadratic_periodic, \"BINARY\")\n",
    "\n",
    "response_embedded = embedding_sampler.sample(periodic_lattice_bqm, num_reads=10, return_embedding=True)\n",
    "\n",
    "print(response_embedded)"
   ]
  },
  {
   "cell_type": "code",
   "execution_count": null,
   "metadata": {},
   "outputs": [],
   "source": [
    "response_embedded.info['embedding_context']['embedding']"
   ]
  },
  {
   "cell_type": "markdown",
   "metadata": {},
   "source": [
    "Above, we see that some of the nodes from our input graph are mapped to sometimes several nodes in our structured sampler's graph. These input nodes have a higher degree than is available on any node in our structured sampler's graph.\n",
    "\n",
    "The visualization becomes pretty messy, but let's take a look at how the embedding worked out in this more complex case.\n",
    "We end up mapping single nodes in the `periodic_lattice_bqm` graph to multiple nodes in our structured sampler's graph due to the periodic boundary conditions. These are known as chains in embedding; using multiple nodes and edges to represent one node."
   ]
  },
  {
   "cell_type": "code",
   "execution_count": null,
   "metadata": {},
   "outputs": [],
   "source": [
    "node_embedding = []\n",
    "for embedding in response_embedded.info['embedding_context']['embedding'].values():\n",
    "    node_embedding += [*embedding]\n",
    "    \n",
    "node_embedding = np.array(node_embedding)\n",
    "\n",
    "%matplotlib notebook\n",
    "\n",
    "fig = plt.figure()\n",
    "ax = plt.axes(projection=\"3d\")\n",
    "ax.set(xlabel=\"X\", ylabel=\"Y\", zlabel=\"Z\", title=\"3x2x2 Periodic Lattice Embedding - Chains\")\n",
    "\n",
    "#plot points\n",
    "ax.scatter3D(nodes_xyz.T[0], nodes_xyz.T[1], nodes_xyz.T[2], c='b')\n",
    "ax.scatter3D(node_embedding.T[0], node_embedding.T[1], node_embedding.T[2], s=50, c='r')\n",
    "\n",
    "#plot the edges\n",
    "for edge in edges_xyz:\n",
    "    if any(np.array_equal(edge[0], x) for x in node_embedding) and any(np.array_equal(edge[1], x) for x in node_embedding):\n",
    "        ax.plot3D(*zip(edge[0], edge[1]), \"r\")\n",
    "    else:\n",
    "        ax.plot3D(*zip(edge[0], edge[1]), color=\"orchid\")"
   ]
  },
  {
   "cell_type": "markdown",
   "metadata": {},
   "source": [
    "# Composite, Composite, Composite?\n",
    "\n",
    "To cap it off, let's take a look at another composite that acts as a post-processing layer. The `TruncateComposite` found in `dimod` allows us to filter the returned sample set, for example if we only care about a few of the lowest energy samples returned.\n",
    "\n",
    "The signature shows us we need to provide a sampler and number of rows to return, with some other optional arguments."
   ]
  },
  {
   "cell_type": "code",
   "execution_count": null,
   "metadata": {},
   "outputs": [],
   "source": [
    "?dimod.TruncateComposite"
   ]
  },
  {
   "cell_type": "code",
   "execution_count": null,
   "metadata": {},
   "outputs": [],
   "source": [
    "truncated_sampler = dimod.TruncateComposite(embedding_sampler, 5)\n",
    "\n",
    "response_truncated = truncated_sampler.sample(small_bqm, num_reads=10)\n",
    "\n",
    "print(response_truncated)"
   ]
  }
 ],
 "metadata": {
  "kernelspec": {
   "display_name": "Python [conda env:dev] *",
   "language": "python",
   "name": "conda-env-dev-py"
  },
  "language_info": {
   "codemirror_mode": {
    "name": "ipython",
    "version": 3
   },
   "file_extension": ".py",
   "mimetype": "text/x-python",
   "name": "python",
   "nbconvert_exporter": "python",
   "pygments_lexer": "ipython3",
   "version": "3.8.5"
  }
 },
 "nbformat": 4,
 "nbformat_minor": 4
}
