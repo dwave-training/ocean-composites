{
 "cells": [
  {
   "cell_type": "markdown",
   "id": "0f91dfcd",
   "metadata": {},
   "source": [
    "# Exploring Ocean Composites"
   ]
  },
  {
   "cell_type": "markdown",
   "id": "67cb05e9",
   "metadata": {},
   "source": [
    "When solving problems on a quantum computer, both pre-processing and post-processing can be largely helpful. Ocean provides several tools for both forms of processing that can be accessed through composites.\n",
    "\n",
    "In this notebook, we explore several of these composites and consider ... [TODO]\n"
   ]
  },
  {
   "cell_type": "markdown",
   "id": "3786b2af",
   "metadata": {},
   "source": [
    "## FixVariablesComposite"
   ]
  },
  {
   "cell_type": "markdown",
   "id": "7fb1711c",
   "metadata": {},
   "source": [
    "The first composite we'll look at is the `FixVariablesComposite`, which can be found in `dwave-preprocessing`."
   ]
  },
  {
   "cell_type": "code",
   "execution_count": 1,
   "id": "9d4b8c9a",
   "metadata": {},
   "outputs": [],
   "source": [
    "from dwave.preprocessing import FixVariablesComposite"
   ]
  },
  {
   "cell_type": "markdown",
   "id": "2a97aa9c",
   "metadata": {},
   "source": [
    "The `FixVariablesComposite` allows users to 'fix' some variables of a binary quadratic model (BQM) before it is passed to a sampler, guaranteeing that returned samples will include the fixed variables. \n",
    "\n",
    "By fixing variables, we are reducing the size of the problem that actually needs to be solved. This is especially helpful for larger problems that cannot be easily solved on the QPU. \n",
    "\n",
    "Here is the class signature:"
   ]
  },
  {
   "cell_type": "code",
   "execution_count": 2,
   "id": "accce214",
   "metadata": {},
   "outputs": [],
   "source": [
    "?FixVariablesComposite"
   ]
  },
  {
   "cell_type": "markdown",
   "id": "bfa3cdd6",
   "metadata": {},
   "source": [
    "Using the FixVariablesComposite requires the user to specify a child sampler and the algorithm that determines which variables to fix. \n",
    "\n",
    "Let's demonstrate with a toy BQM of one ising variable."
   ]
  },
  {
   "cell_type": "code",
   "execution_count": 3,
   "id": "fd635d60",
   "metadata": {},
   "outputs": [],
   "source": [
    "import dimod\n",
    "bqm = dimod.BinaryQuadraticModel.from_ising({'a':1}, {})"
   ]
  },
  {
   "cell_type": "markdown",
   "id": "220d7189",
   "metadata": {},
   "source": [
    "We'll use the `ExactSolver` from `dimod` as the child sampler, which is great for testing small problems because it calculates the energy for every possible sample."
   ]
  },
  {
   "cell_type": "code",
   "execution_count": 4,
   "id": "65ba8a6c",
   "metadata": {},
   "outputs": [],
   "source": [
    "from dimod import ExactSolver\n",
    "\n",
    "exact_solver = ExactSolver()\n",
    "sampler = FixVariablesComposite(exact_solver, algorithm='explicit')"
   ]
  },
  {
   "cell_type": "markdown",
   "id": "c30378ee",
   "metadata": {},
   "source": [
    "By default, `algorithm` is set to `explicit`, meaning that the user must explicitly pass in a `fixed_variables` dict when sampling, as seen below:"
   ]
  },
  {
   "cell_type": "code",
   "execution_count": 5,
   "id": "31cf2874",
   "metadata": {},
   "outputs": [
    {
     "name": "stdout",
     "output_type": "stream",
     "text": [
      "   a energy num_oc.\n",
      "0 -1   -1.0       1\n",
      "1 +1    1.0       1\n",
      "['SPIN', 2 rows, 2 samples, 1 variables]\n",
      "   a energy num_oc.\n",
      "0 -1   -1.0       1\n",
      "['SPIN', 1 rows, 1 samples, 1 variables]\n"
     ]
    }
   ],
   "source": [
    "# Using only the ExactSolver\n",
    "sampleset = exact_solver.sample(bqm)\n",
    "print(sampleset)\n",
    "\n",
    "# Using the FixVariablesComposite and fixing the one variable to -1\n",
    "sampleset = sampler.sample(bqm, fixed_variables={'a':-1})\n",
    "print(sampleset)"
   ]
  },
  {
   "cell_type": "markdown",
   "id": "c83a3a44",
   "metadata": {},
   "source": [
    "Instead of passing in the fixed variables explicitly, `algorithm` can also be set to `roof_duality`. With this algorithm, the composite will try to find minimizing assignments for some or all of the BQM's variables. For more information on the roof duality algorithm, see `roof_duality()` (TODO: add link to docs)."
   ]
  },
  {
   "cell_type": "code",
   "execution_count": 6,
   "id": "844b6319",
   "metadata": {},
   "outputs": [
    {
     "name": "stdout",
     "output_type": "stream",
     "text": [
      "strict:  True\n",
      "fixed_variables:  {'a': -1}\n",
      "   a energy num_oc.\n",
      "0 -1   -1.0       1\n",
      "['SPIN', 1 rows, 1 samples, 1 variables]\n"
     ]
    }
   ],
   "source": [
    "sampler = FixVariablesComposite(exact_solver, algorithm='roof_duality')\n",
    "sampleset = sampler.sample(bqm)\n",
    "print(sampleset)"
   ]
  },
  {
   "cell_type": "markdown",
   "id": "c8931bfc",
   "metadata": {},
   "source": [
    "By default, we run the roof duality algorithm in `strict` mode. This means that we only fix variables when the variable assignments are True for all ground states. To demonstrate this, let's pick a different BQM:"
   ]
  },
  {
   "cell_type": "code",
   "execution_count": 7,
   "id": "1131a2da",
   "metadata": {},
   "outputs": [],
   "source": [
    "bqm = dimod.BinaryQuadraticModel.from_ising({}, {'ab':-1})"
   ]
  },
  {
   "cell_type": "markdown",
   "id": "29d6f0fb",
   "metadata": {},
   "source": [
    "This BQM has two ground states, either both `a` and `b` are -1 or both `a` and `b` are +1, which means that there are no variables that have a single value for all ground states. Thus, when `strict=True`, we don't have any fixed variables:"
   ]
  },
  {
   "cell_type": "code",
   "execution_count": 8,
   "id": "288a9c68",
   "metadata": {},
   "outputs": [
    {
     "name": "stdout",
     "output_type": "stream",
     "text": [
      "strict:  True\n",
      "fixed_variables:  {}\n",
      "   a  b energy num_oc.\n",
      "0 -1 -1   -1.0       1\n",
      "2 +1 +1   -1.0       1\n",
      "1 +1 -1    1.0       1\n",
      "3 -1 +1    1.0       1\n",
      "['SPIN', 4 rows, 4 samples, 2 variables]\n"
     ]
    }
   ],
   "source": [
    "sampleset = sampler.sample(bqm, strict=True)\n",
    "print(sampleset)"
   ]
  },
  {
   "cell_type": "markdown",
   "id": "bf318210",
   "metadata": {},
   "source": [
    "When `strict=False`, we also fix the variables with assignments that are True for some but not all ground states."
   ]
  },
  {
   "cell_type": "code",
   "execution_count": 9,
   "id": "2fce2cb1",
   "metadata": {},
   "outputs": [
    {
     "name": "stdout",
     "output_type": "stream",
     "text": [
      "strict:  False\n",
      "fixed_variables:  {'a': -1, 'b': -1}\n",
      "   a  b energy num_oc.\n",
      "0 -1 -1   -1.0       1\n",
      "['SPIN', 1 rows, 1 samples, 2 variables]\n"
     ]
    }
   ],
   "source": [
    "sampleset = sampler.sample(bqm, strict=False)\n",
    "print(sampleset)"
   ]
  },
  {
   "cell_type": "markdown",
   "id": "7cba1792",
   "metadata": {},
   "source": [
    "Now let's try the composite out on a more difficult problem. In this next example, we'll call the QPU using `DWaveSampler` as our child sampler. "
   ]
  },
  {
   "cell_type": "code",
   "execution_count": 10,
   "id": "aaa97e10",
   "metadata": {},
   "outputs": [],
   "source": [
    "from dwave.system import DWaveSampler, DWaveCliqueSampler, EmbeddingComposite\n",
    "qpu_sampler = EmbeddingComposite(DWaveSampler())\n",
    "sampler = FixVariablesComposite(qpu_sampler, algorithm='roof_duality')"
   ]
  },
  {
   "cell_type": "markdown",
   "id": "258760f3",
   "metadata": {},
   "source": [
    "Using one of `dimod`'s generators, we create a BQM for an anti-crossing problem with a single clique of 20 variables."
   ]
  },
  {
   "cell_type": "code",
   "execution_count": 34,
   "id": "af8caacc",
   "metadata": {},
   "outputs": [],
   "source": [
    "import dimod\n",
    "bqm = dimod.generators.anti_crossing_clique(20)"
   ]
  },
  {
   "cell_type": "markdown",
   "id": "06fc0e7e",
   "metadata": {},
   "source": [
    "Let's compare our results with and without using the `FixVariablesComposite`."
   ]
  },
  {
   "cell_type": "code",
   "execution_count": 35,
   "id": "765c5b91",
   "metadata": {},
   "outputs": [
    {
     "name": "stdout",
     "output_type": "stream",
     "text": [
      "   0  1  2  3  4  5  6  7  8  9 10 11 12 13 14 15 16 ... 19 energy num_oc. ...\n",
      "0 -1 -1 -1 -1 -1 -1 -1 -1 -1 -1 -1 -1 -1 -1 +1 +1 +1 ... -1  -54.0       1 ...\n",
      "1 -1 -1 -1 -1 -1 -1 -1 -1 -1 -1 +1 +1 +1 +1 +1 +1 -1 ... -1  -54.0       1 ...\n",
      "2 -1 -1 -1 -1 -1 -1 -1 -1 -1 -1 -1 -1 -1 -1 -1 -1 -1 ... -1  -54.0       1 ...\n",
      "3 -1 -1 -1 -1 -1 -1 -1 -1 -1 -1 -1 -1 -1 -1 -1 +1 -1 ... +1  -54.0       1 ...\n",
      "4 -1 -1 -1 -1 -1 -1 -1 -1 -1 -1 -1 -1 +1 -1 -1 -1 +1 ... -1  -54.0       1 ...\n",
      "5 -1 -1 -1 -1 -1 -1 -1 -1 -1 -1 -1 -1 -1 -1 +1 +1 -1 ... +1  -54.0       1 ...\n",
      "6 -1 -1 -1 -1 -1 -1 -1 -1 -1 -1 -1 -1 -1 +1 +1 +1 +1 ... -1  -54.0       1 ...\n",
      "7 -1 -1 -1 -1 -1 -1 -1 -1 -1 -1 -1 +1 -1 +1 -1 -1 +1 ... +1  -54.0       1 ...\n",
      "8 -1 -1 -1 -1 -1 -1 -1 -1 -1 -1 -1 +1 -1 -1 +1 +1 +1 ... +1  -54.0       1 ...\n",
      "9 -1 -1 -1 -1 -1 -1 -1 -1 -1 -1 +1 +1 -1 -1 +1 +1 -1 ... -1  -54.0       1 ...\n",
      "['SPIN', 10 rows, 10 samples, 20 variables]\n"
     ]
    }
   ],
   "source": [
    "sampleset = qpu_sampler.sample(bqm, num_reads=10, label='D-Wave 101: Ocean Composites')\n",
    "print(sampleset)"
   ]
  },
  {
   "cell_type": "code",
   "execution_count": 36,
   "id": "4ac7b881",
   "metadata": {},
   "outputs": [
    {
     "name": "stdout",
     "output_type": "stream",
     "text": [
      "strict:  False\n",
      "fixed_variables:  {0: 1, 1: 1, 2: 1, 3: 1, 4: 1, 5: 1, 6: 1, 7: 1, 8: 1, 9: 1, 10: 1, 11: 1, 12: 1, 13: 1, 14: 1, 15: 1, 16: 1, 17: 1, 18: 1, 19: 1}\n",
      "   0  1  2  3  4  5  6  7  8  9 10 11 12 13 14 15 16 17 18 19 energy num_oc.\n",
      "0 +1 +1 +1 +1 +1 +1 +1 +1 +1 +1 +1 +1 +1 +1 +1 +1 +1 +1 +1 +1  -56.0       1\n",
      "['SPIN', 1 rows, 1 samples, 20 variables]\n"
     ]
    }
   ],
   "source": [
    "fix_sampleset = sampler.sample(bqm, num_reads=10, strict=False, label='D-Wave 101: Ocean Composites')\n",
    "print(fix_sampleset)"
   ]
  },
  {
   "cell_type": "code",
   "execution_count": null,
   "id": "fde9d4db",
   "metadata": {},
   "outputs": [],
   "source": [
    "TODO: maybe add a plot for comparison?"
   ]
  },
  {
   "cell_type": "markdown",
   "id": "80a9fa79",
   "metadata": {},
   "source": [
    "## SpinReversalTransformComposite"
   ]
  },
  {
   "cell_type": "markdown",
   "id": "2d14077c",
   "metadata": {},
   "source": [
    "The QPU is not perfect and qubits can be slightly biased to one direction or another. To reduce the impact of these unintended biases and potentially improve results, users can apply spin reversal transforms (also known as 'gauge transforms') on their problem before solving. The `DWaveSampler` has a `num_spin_reversal_transforms` parameter than allows users to specify the number of transforms that are applied to their problem from the server-side. \n",
    "\n",
    "Alternatively, users may use the `SpinReversalTransformComposite`, another pre-processing composite that can be found in `dwave-preprocessing`. "
   ]
  },
  {
   "cell_type": "code",
   "execution_count": 37,
   "id": "481f3033",
   "metadata": {},
   "outputs": [],
   "source": [
    "from dwave.preprocessing import SpinReversalTransformComposite"
   ]
  },
  {
   "cell_type": "markdown",
   "id": "d1b073f6",
   "metadata": {},
   "source": [
    "This composite applies the spin reversal transforms by flipping some variables, passing them to the child sampler, and then flipping the same variables back in the returned samples. Each variable has a 50% chance of being flipped. Increasing the number of transforms can improve results, but may also increase the run time."
   ]
  },
  {
   "cell_type": "code",
   "execution_count": 58,
   "id": "01be1441",
   "metadata": {},
   "outputs": [],
   "source": [
    "from neal import SimulatedAnnealingSampler\n",
    "# neal_sampler = SimulatedAnnealingSampler()\n",
    "qpu_sampler = EmbeddingComposite(DWaveSampler())\n",
    "sampler = SpinReversalTransformComposite(qpu_sampler)"
   ]
  },
  {
   "cell_type": "code",
   "execution_count": 62,
   "id": "66f8a4fb",
   "metadata": {},
   "outputs": [
    {
     "name": "stdout",
     "output_type": "stream",
     "text": [
      "   0  1  2  3  4  5  6  7  8  9 10 11 12 13 14 15 16 ... 19 energy num_oc. ...\n",
      "0 -1 -1 -1 -1 -1 -1 -1 -1 -1 -1 +1 -1 -1 -1 -1 -1 -1 ... -1  -29.0       1 ...\n",
      "1 -1 -1 -1 -1 -1 -1 -1 -1 +1 -1 +1 +1 -1 -1 -1 -1 -1 ... -1  -29.0       1 ...\n",
      "2 -1 -1 -1 -1 -1 -1 -1 -1 -1 -1 -1 -1 -1 -1 -1 -1 -1 ... -1  -29.0       1 ...\n",
      "3 -1 -1 -1 -1 -1 -1 -1 -1 +1 -1 +1 -1 -1 -1 -1 -1 -1 ... -1  -29.0       1 ...\n",
      "4 -1 -1 -1 -1 -1 -1 -1 -1 +1 -1 -1 +1 -1 -1 -1 -1 -1 ... -1  -29.0       2 ...\n",
      "5 -1 -1 +1 -1 -1 -1 -1 -1 +1 -1 +1 -1 -1 -1 -1 -1 -1 ... -1  -29.0       1 ...\n",
      "6 +1 -1 -1 -1 -1 -1 -1 -1 +1 -1 +1 +1 -1 -1 -1 -1 -1 ... -1  -29.0       1 ...\n",
      "7 -1 -1 -1 -1 -1 -1 -1 -1 -1 -1 +1 +1 -1 -1 -1 -1 -1 ... -1  -29.0       1 ...\n",
      "8 +1 -1 +1 -1 -1 +1 -1 -1 +1 +1 +1 -1 -1 +1 -1 -1 +1 ... +1  -21.0       1 ...\n",
      "['SPIN', 9 rows, 10 samples, 20 variables]\n"
     ]
    }
   ],
   "source": [
    "# bqm = dimod.generators.random.ran_r(1,25)\n",
    "bqm = dimod.generators.frustrated_loop(20, 10)\n",
    "sampleset = qpu_sampler.sample(bqm, num_reads=10, label='D-Wave 101: Ocean Composites')\n",
    "print(sampleset)"
   ]
  },
  {
   "cell_type": "code",
   "execution_count": 63,
   "id": "a8473188",
   "metadata": {},
   "outputs": [
    {
     "name": "stdout",
     "output_type": "stream",
     "text": [
      "   0  1  2  3  4  5  6  7  8  9 10 11 12 13 14 15 16 ... 19 energy num_oc. ...\n",
      "2 -1 +1 +1 +1 +1 +1 +1 +1 +1 +1 -1 +1 +1 +1 +1 +1 +1 ... +1  -29.0       1 ...\n",
      "3 -1 +1 -1 +1 +1 +1 +1 +1 -1 +1 -1 +1 +1 +1 +1 +1 +1 ... +1  -29.0       1 ...\n",
      "4 +1 +1 +1 +1 +1 +1 +1 +1 -1 +1 -1 -1 +1 +1 +1 +1 +1 ... +1  -29.0       1 ...\n",
      "6 -1 -1 -1 -1 -1 -1 -1 -1 -1 -1 +1 -1 -1 -1 -1 -1 -1 ... -1  -29.0       1 ...\n",
      "7 -1 -1 -1 -1 -1 -1 -1 -1 -1 -1 +1 +1 -1 -1 -1 -1 -1 ... -1  -29.0       1 ...\n",
      "8 +1 +1 +1 +1 +1 +1 +1 +1 -1 +1 -1 -1 +1 +1 +1 +1 +1 ... +1  -29.0       1 ...\n",
      "9 -1 -1 -1 -1 -1 -1 -1 -1 +1 -1 -1 +1 -1 -1 -1 -1 -1 ... -1  -29.0       1 ...\n",
      "0 +1 -1 -1 +1 -1 +1 -1 -1 -1 +1 +1 -1 -1 -1 -1 -1 +1 ... -1  -25.0       1 ...\n",
      "1 +1 +1 -1 -1 +1 +1 +1 -1 -1 +1 +1 +1 +1 +1 -1 -1 +1 ... +1  -25.0       1 ...\n",
      "5 -1 -1 +1 +1 -1 -1 -1 -1 +1 -1 +1 -1 -1 -1 +1 -1 -1 ... -1  -25.0       1 ...\n",
      "['SPIN', 10 rows, 10 samples, 20 variables]\n"
     ]
    }
   ],
   "source": [
    "sampleset = sampler.sample(bqm, num_spin_reversal_transforms=10, label='D-Wave 101: Ocean Composites')\n",
    "print(sampleset)"
   ]
  },
  {
   "cell_type": "code",
   "execution_count": null,
   "id": "74d1bfdc",
   "metadata": {},
   "outputs": [],
   "source": []
  }
 ],
 "metadata": {
  "kernelspec": {
   "display_name": "Python 3 (ipykernel)",
   "language": "python",
   "name": "python3"
  },
  "language_info": {
   "codemirror_mode": {
    "name": "ipython",
    "version": 3
   },
   "file_extension": ".py",
   "mimetype": "text/x-python",
   "name": "python",
   "nbconvert_exporter": "python",
   "pygments_lexer": "ipython3",
   "version": "3.9.0"
  }
 },
 "nbformat": 4,
 "nbformat_minor": 5
}
